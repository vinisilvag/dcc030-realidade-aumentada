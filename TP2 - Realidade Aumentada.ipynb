{
 "cells": [
  {
   "cell_type": "markdown",
   "id": "0df6d0ed",
   "metadata": {},
   "source": [
    "# TP2 - Realidade Aumentada\n",
    "\n",
    "Aluno: Vinicius Silva Gomes\n",
    "\n",
    "Matrícula: 2021421869"
   ]
  },
  {
   "cell_type": "code",
   "execution_count": 4,
   "id": "1145329b",
   "metadata": {},
   "outputs": [
    {
     "name": "stdout",
     "output_type": "stream",
     "text": [
      "pygame 2.1.2 (SDL 2.0.16, Python 3.8.10)\n",
      "Hello from the pygame community. https://www.pygame.org/contribute.html\n"
     ]
    }
   ],
   "source": [
    "# Importing libraries\n",
    "\n",
    "import numpy as np\n",
    "import cv2\n",
    "import os\n",
    "\n",
    "from OpenGL.GL import *\n",
    "from OpenGL.GLUT import *\n",
    "from OpenGL.GLU import *\n",
    "\n",
    "from PIL import Image\n",
    "\n",
    "from objloader import *"
   ]
  },
  {
   "cell_type": "markdown",
   "id": "258554c8",
   "metadata": {},
   "source": [
    "## Extraindo frames do vídeo para calibração\n",
    "\n",
    "Esse pequeno script foi feito para extrair os frames do vídeo e usá-los para calibrar a câmera e obter os parâmetros intrínsecos da câmera. O script, em suma, carrega o vídeo, usando o OpenCV, e salva cada frame no disco, em uma pasta chamada ./fames.\n",
    "\n",
    "Dessa pasta, foram escolhidos 6 frames que apresentavam angulações, distâncias e rotações diferentes do tabuleiro xadrez e esses frames foram separados para serem usados na calibração da câmera.\n",
    "\n",
    "OBS: Para que as imagens sejam salvas, a pasta ./frames precisa ter sido criada previamente."
   ]
  },
  {
   "cell_type": "code",
   "execution_count": null,
   "id": "a5645462",
   "metadata": {},
   "outputs": [],
   "source": [
    "# Extract frames from the video\n",
    "\n",
    "cam = cv2.VideoCapture(\"./entrada.mp4\")\n",
    "\n",
    "current_frame = 0\n",
    "\n",
    "while(True):\n",
    "    ret, frame = cam.read()\n",
    "\n",
    "    if ret:\n",
    "        # A ./frames/ folder must exist for this code to work\n",
    "        \n",
    "        name = './frames/frame' + str(current_frame) + '.jpg'\n",
    "        print ('Creating... ' + name)\n",
    "  \n",
    "        cv2.imwrite(name, frame)\n",
    "  \n",
    "        current_frame += 1\n",
    "    else:\n",
    "        break\n",
    "\n",
    "cam.release()\n",
    "cv2.destroyAllWindows()"
   ]
  },
  {
   "cell_type": "markdown",
   "id": "d7a5825d",
   "metadata": {},
   "source": [
    "## Obtendo os parâmetros intrínsecos\n",
    "\n",
    "Com os frames selecionados, foi usado o MatLAB para obter os parâmetros intrísecos da câmera. A opção \"Camera Calibration\" foi a escolhida. Os pontos do tabuleiro foram selecionados e após o mapeamento e as devidas funções internas do MatLAB terem sido executadas, a matriz de parâmetros intrínsecos foi obtida.\n",
    "\n",
    "A próxima célula apresenta a declaração dessa matriz com os dados de output do MatLAB.\n",
    "\n",
    "<!-- OBS: A matriz foi transposta para se parecer com a matriz que foi estudada e usada como exemplo ao longo das aulas da disciplina. -->"
   ]
  },
  {
   "cell_type": "code",
   "execution_count": 5,
   "id": "aa5e30ca",
   "metadata": {},
   "outputs": [
    {
     "name": "stdout",
     "output_type": "stream",
     "text": [
      "[[412.52932591   0.         315.18297063]\n",
      " [  0.         409.19948302 225.06859882]\n",
      " [  0.           0.           1.        ]]\n"
     ]
    }
   ],
   "source": [
    "intrinsic = np.array(([412.529325914068, 0, 315.182970634010],\n",
    "                     [0, 409.199483018995, 225.068598819594],\n",
    "                     [0, 0, 1]))\n",
    "\n",
    "print(intrinsic)"
   ]
  },
  {
   "cell_type": "code",
   "execution_count": 6,
   "id": "915ac2c5",
   "metadata": {},
   "outputs": [],
   "source": [
    " def initOpenGL(dimensions):\n",
    "    (width, height) = dimensions\n",
    "    \n",
    "    glClearColor(0.0, 0.0, 0.0, 0.0)\n",
    "    glClearDepth(1.0)\n",
    "\n",
    "    glEnable(GL_DEPTH_TEST)\n",
    "\n",
    "    glMatrixMode(GL_PROJECTION)\n",
    "    glLoadIdentity()\n",
    " \n",
    "    fovy = 45\n",
    "    aspect = (width)/(height)\n",
    "    gluPerspective(fovy, aspect, 0.1, 100.0)\n",
    "        \n",
    "# def object3D(obj):\n",
    "#     # translada o objeto para ficar 10 unidades distante da camera (para podermos ver o objeto)\n",
    "#     glTranslate(0,0,-10)\n",
    "\n",
    "#     # move o model em y para centralizar ele\n",
    "#     glTranslate(0,-2,0)\n",
    "#     # rotaciona o modelo para podermos ve-lo de frente\n",
    "#     #glRotate(90,1,0,0)\n",
    "#     glRotate(180,0,1,0)\n",
    "#     # renderiza o modelo do Pikachu\n",
    "#     glCallList(obj.gl_list)\n",
    "\n",
    "#     # renderiza um cubo\n",
    "#     # glutWireCube(2.0)\n",
    "\n",
    "    \n",
    "def displayCallback():\n",
    "    glMatrixMode(GL_MODELVIEW)\n",
    "    glLoadIdentity()\n",
    "    \n",
    "    glClear(GL_COLOR_BUFFER_BIT | GL_DEPTH_BUFFER_BIT)\n",
    "    \n",
    "    # carregar o modelo 3D do Pikachu\n",
    "    obj = OBJ(\"Pikachu.obj\", swapyz=True)\n",
    "\n",
    "    # habilita o uso de texturas (o Pikachu tem textura)\n",
    "    glEnable(GL_TEXTURE_2D)\n",
    "\n",
    "#     object3D(obj) \n",
    "        \n",
    "    glutSwapBuffers()    \n",
    "    \n",
    "\n",
    "def idleCallback():\n",
    "    glutPostRedisplay()"
   ]
  },
  {
   "cell_type": "code",
   "execution_count": 7,
   "id": "7ee205f3",
   "metadata": {},
   "outputs": [],
   "source": [
    "dimensions = (640, 480)\n",
    "\n",
    "glutInit()\n",
    "glutInitDisplayMode(GLUT_RGBA | GLUT_DOUBLE)\n",
    "glutSetOption(GLUT_ACTION_ON_WINDOW_CLOSE, GLUT_ACTION_CONTINUE_EXECUTION)\n",
    "\n",
    "glutInitWindowSize(*dimensions)\n",
    "\n",
    "window = glutCreateWindow(b'TP2 - Realidade Aumentada - Vinicius Gomes')\n",
    "initOpenGL(dimensions)\n",
    "\n",
    "glutDisplayFunc(displayCallback)\n",
    "glutIdleFunc(idleCallback)\n",
    "\n",
    "glutMainLoop()"
   ]
  },
  {
   "cell_type": "code",
   "execution_count": null,
   "id": "53564a93",
   "metadata": {},
   "outputs": [],
   "source": []
  }
 ],
 "metadata": {
  "kernelspec": {
   "display_name": "Python 3 (ipykernel)",
   "language": "python",
   "name": "python3"
  },
  "language_info": {
   "codemirror_mode": {
    "name": "ipython",
    "version": 3
   },
   "file_extension": ".py",
   "mimetype": "text/x-python",
   "name": "python",
   "nbconvert_exporter": "python",
   "pygments_lexer": "ipython3",
   "version": "3.8.10"
  }
 },
 "nbformat": 4,
 "nbformat_minor": 5
}
